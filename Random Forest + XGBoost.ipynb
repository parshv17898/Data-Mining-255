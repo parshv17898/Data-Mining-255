{
  "nbformat": 4,
  "nbformat_minor": 0,
  "metadata": {
    "colab": {
      "name": "Random Forest + XGBoost.ipynb",
      "provenance": [],
      "collapsed_sections": []
    },
    "kernelspec": {
      "display_name": "Python 3",
      "name": "python3"
    },
    "language_info": {
      "name": "python"
    },
    "accelerator": "GPU"
  },
  "cells": [
    {
      "cell_type": "code",
      "metadata": {
        "id": "kGzS9QdS2V26"
      },
      "source": [
        "from sklearn import datasets\n",
        "from sklearn.model_selection import train_test_split\n",
        "from sklearn.model_selection import GridSearchCV\n",
        "from sklearn.ensemble import RandomForestClassifier\n",
        "from sklearn.metrics import f1_score"
      ],
      "execution_count": null,
      "outputs": []
    },
    {
      "cell_type": "code",
      "metadata": {
        "id": "E9Ii_BZb2iGC"
      },
      "source": [
        "digits = datasets.load_digits()\n",
        "\n",
        "X = digits.data\n",
        "\n",
        "y = digits.target"
      ],
      "execution_count": null,
      "outputs": []
    },
    {
      "cell_type": "code",
      "metadata": {
        "id": "xctjOwtL2m57"
      },
      "source": [
        "X_train, X_test, y_train, y_test = train_test_split(X, y, test_size=0.3, random_state=42)"
      ],
      "execution_count": null,
      "outputs": []
    },
    {
      "cell_type": "markdown",
      "metadata": {
        "id": "a4MlZVRX09vi"
      },
      "source": [
        "Random Forest Classifier"
      ]
    },
    {
      "cell_type": "code",
      "metadata": {
        "colab": {
          "base_uri": "https://localhost:8080/"
        },
        "id": "zrnGGwa4sfND",
        "outputId": "45e6843f-089f-4735-a6be-8118bbbb93bb"
      },
      "source": [
        "randomForest = RandomForestClassifier()\n",
        "randomForest.fit(X_train,y_train)"
      ],
      "execution_count": null,
      "outputs": [
        {
          "output_type": "execute_result",
          "data": {
            "text/plain": [
              "RandomForestClassifier(bootstrap=True, ccp_alpha=0.0, class_weight=None,\n",
              "                       criterion='gini', max_depth=None, max_features='auto',\n",
              "                       max_leaf_nodes=None, max_samples=None,\n",
              "                       min_impurity_decrease=0.0, min_impurity_split=None,\n",
              "                       min_samples_leaf=1, min_samples_split=2,\n",
              "                       min_weight_fraction_leaf=0.0, n_estimators=100,\n",
              "                       n_jobs=None, oob_score=False, random_state=None,\n",
              "                       verbose=0, warm_start=False)"
            ]
          },
          "metadata": {
            "tags": []
          },
          "execution_count": 7
        }
      ]
    },
    {
      "cell_type": "code",
      "metadata": {
        "colab": {
          "base_uri": "https://localhost:8080/"
        },
        "id": "Mx7rKCnjsmjh",
        "outputId": "18d1747b-3ce3-4662-ea94-0921b61bce6d"
      },
      "source": [
        "y_pred = randomForest.predict(X_test)\n",
        "F1_score = f1_score(y_test,y_pred, average='weighted')\n",
        "print(\"F1 Score: \", '%.2f'% (F1_score*100),\"%\")"
      ],
      "execution_count": null,
      "outputs": [
        {
          "output_type": "stream",
          "text": [
            "F1 Score:  97.59 %\n"
          ],
          "name": "stdout"
        }
      ]
    },
    {
      "cell_type": "markdown",
      "metadata": {
        "id": "XwU-MdCSrbs0"
      },
      "source": [
        "GridSearchCV on RandomForestClassifier"
      ]
    },
    {
      "cell_type": "code",
      "metadata": {
        "id": "gamiz1wV3pjJ"
      },
      "source": [
        "grid_params = {\n",
        "    'bootstrap' : [True, False],\n",
        "    'max_depth' : [1,2,3],\n",
        "    'n_estimators' : [10,50,100,200,500],\n",
        "    'max_features' : [1,2,3,4,5,6,7,8]\n",
        "}\n",
        "\n",
        "gs = GridSearchCV(\n",
        "    randomForest,\n",
        "    grid_params,\n",
        "    cv=5\n",
        ")\n",
        "\n",
        "gs_results = gs.fit(X_train, y_train)"
      ],
      "execution_count": null,
      "outputs": []
    },
    {
      "cell_type": "code",
      "metadata": {
        "colab": {
          "base_uri": "https://localhost:8080/"
        },
        "id": "Be5BevRf6NwS",
        "outputId": "4ac9d993-c8ee-48c4-9649-711426a1cb2b"
      },
      "source": [
        "gs_results.best_score_"
      ],
      "execution_count": null,
      "outputs": [
        {
          "output_type": "execute_result",
          "data": {
            "text/plain": [
              "0.9029469423891735"
            ]
          },
          "metadata": {
            "tags": []
          },
          "execution_count": 15
        }
      ]
    },
    {
      "cell_type": "code",
      "metadata": {
        "colab": {
          "base_uri": "https://localhost:8080/"
        },
        "id": "Zd1pd1g26Txe",
        "outputId": "fc705da2-b63c-4892-e480-57df0f63c945"
      },
      "source": [
        "gs_results.best_estimator_"
      ],
      "execution_count": null,
      "outputs": [
        {
          "output_type": "execute_result",
          "data": {
            "text/plain": [
              "RandomForestClassifier(bootstrap=True, ccp_alpha=0.0, class_weight=None,\n",
              "                       criterion='gini', max_depth=3, max_features=3,\n",
              "                       max_leaf_nodes=None, max_samples=None,\n",
              "                       min_impurity_decrease=0.0, min_impurity_split=None,\n",
              "                       min_samples_leaf=1, min_samples_split=2,\n",
              "                       min_weight_fraction_leaf=0.0, n_estimators=500,\n",
              "                       n_jobs=None, oob_score=False, random_state=None,\n",
              "                       verbose=0, warm_start=False)"
            ]
          },
          "metadata": {
            "tags": []
          },
          "execution_count": 16
        }
      ]
    },
    {
      "cell_type": "code",
      "metadata": {
        "colab": {
          "base_uri": "https://localhost:8080/"
        },
        "id": "vDH1Xilf6V_i",
        "outputId": "067fcb74-3279-44cc-bf77-653daea220cb"
      },
      "source": [
        "gs_results.best_params_"
      ],
      "execution_count": null,
      "outputs": [
        {
          "output_type": "execute_result",
          "data": {
            "text/plain": [
              "{'bootstrap': True, 'max_depth': 3, 'max_features': 3, 'n_estimators': 500}"
            ]
          },
          "metadata": {
            "tags": []
          },
          "execution_count": 17
        }
      ]
    },
    {
      "cell_type": "code",
      "metadata": {
        "colab": {
          "base_uri": "https://localhost:8080/"
        },
        "id": "bLTD_YRPu8h6",
        "outputId": "11afb006-b1f4-4400-f20b-a8c9f5b9d27f"
      },
      "source": [
        "randomForest_f1 = RandomForestClassifier(bootstrap=True, max_depth = 3, max_features = 3, n_estimators=500)\n",
        "randomForest_f1.fit(X_train,y_train)"
      ],
      "execution_count": null,
      "outputs": [
        {
          "output_type": "execute_result",
          "data": {
            "text/plain": [
              "RandomForestClassifier(bootstrap=True, ccp_alpha=0.0, class_weight=None,\n",
              "                       criterion='gini', max_depth=3, max_features=3,\n",
              "                       max_leaf_nodes=None, max_samples=None,\n",
              "                       min_impurity_decrease=0.0, min_impurity_split=None,\n",
              "                       min_samples_leaf=1, min_samples_split=2,\n",
              "                       min_weight_fraction_leaf=0.0, n_estimators=500,\n",
              "                       n_jobs=None, oob_score=False, random_state=None,\n",
              "                       verbose=0, warm_start=False)"
            ]
          },
          "metadata": {
            "tags": []
          },
          "execution_count": 18
        }
      ]
    },
    {
      "cell_type": "code",
      "metadata": {
        "id": "ABEx4dL-vEEr"
      },
      "source": [
        "y_pred = randomForest_f1.predict(X_test)"
      ],
      "execution_count": null,
      "outputs": []
    },
    {
      "cell_type": "code",
      "metadata": {
        "id": "D5O_WxjqvEhk"
      },
      "source": [
        "F1_score = f1_score(y_test, y_pred, average='weighted')"
      ],
      "execution_count": null,
      "outputs": []
    },
    {
      "cell_type": "code",
      "metadata": {
        "colab": {
          "base_uri": "https://localhost:8080/"
        },
        "id": "tZa6cicTvHdG",
        "outputId": "0d4881cf-c46a-45c7-8f3e-80e4a8e9ee9e"
      },
      "source": [
        "print(\"F1 Score: \", '%.2f'% (F1_score*100),\"%\")"
      ],
      "execution_count": null,
      "outputs": [
        {
          "output_type": "stream",
          "text": [
            "F1 Score:  91.00 %\n"
          ],
          "name": "stdout"
        }
      ]
    },
    {
      "cell_type": "markdown",
      "metadata": {
        "id": "fvFfHulOrqe1"
      },
      "source": [
        "XGBClassifier"
      ]
    },
    {
      "cell_type": "code",
      "metadata": {
        "colab": {
          "base_uri": "https://localhost:8080/"
        },
        "id": "nGerfbLFvvMb",
        "outputId": "a895860c-8cb7-4bb9-f3b0-55acacd55132"
      },
      "source": [
        "from xgboost import XGBClassifier\n",
        "\n",
        "xgboost = XGBClassifier()\n",
        "xgboost.fit(X_train, y_train)"
      ],
      "execution_count": null,
      "outputs": [
        {
          "output_type": "execute_result",
          "data": {
            "text/plain": [
              "XGBClassifier(base_score=0.5, booster='gbtree', colsample_bylevel=1,\n",
              "              colsample_bynode=1, colsample_bytree=1, gamma=0,\n",
              "              learning_rate=0.1, max_delta_step=0, max_depth=3,\n",
              "              min_child_weight=1, missing=None, n_estimators=100, n_jobs=1,\n",
              "              nthread=None, objective='multi:softprob', random_state=0,\n",
              "              reg_alpha=0, reg_lambda=1, scale_pos_weight=1, seed=None,\n",
              "              silent=None, subsample=1, verbosity=1)"
            ]
          },
          "metadata": {
            "tags": []
          },
          "execution_count": 23
        }
      ]
    },
    {
      "cell_type": "code",
      "metadata": {
        "colab": {
          "base_uri": "https://localhost:8080/"
        },
        "id": "gBm2t-7ivycP",
        "outputId": "ab885a3a-9487-418c-836e-4949ead174a1"
      },
      "source": [
        "y_pred = xgboost.predict(X_test)\n",
        "F1_score = f1_score(y_test, y_pred, average='weighted')\n",
        "print(\"F1 Score: \", '%.2f'% (F1_score*100),\"%\")"
      ],
      "execution_count": null,
      "outputs": [
        {
          "output_type": "stream",
          "text": [
            "F1 Score:  96.49 %\n"
          ],
          "name": "stdout"
        }
      ]
    },
    {
      "cell_type": "markdown",
      "metadata": {
        "id": "C0eBIeDv1JHp"
      },
      "source": [
        "GridSearchCV on XGBClassifier"
      ]
    },
    {
      "cell_type": "code",
      "metadata": {
        "id": "p5FzxUPz64Qq"
      },
      "source": [
        "grid_params = {\n",
        "    'learning_rate' : [0.1,0.2,1],\n",
        "    'max_depth' : [1,2,3],\n",
        "    'n_estimators' : [10,50,100,200,500]\n",
        "}\n",
        "\n",
        "gs = GridSearchCV(\n",
        "    xgboost,\n",
        "    grid_params,\n",
        "    cv=5\n",
        ")\n",
        "\n",
        "gs_results = gs.fit(X_train, y_train)"
      ],
      "execution_count": null,
      "outputs": []
    },
    {
      "cell_type": "code",
      "metadata": {
        "id": "_YOHz82l7f6j",
        "colab": {
          "base_uri": "https://localhost:8080/"
        },
        "outputId": "ea575f9c-490a-4062-dcc8-ad5a84c23f23"
      },
      "source": [
        "gs_results.best_score_"
      ],
      "execution_count": null,
      "outputs": [
        {
          "output_type": "execute_result",
          "data": {
            "text/plain": [
              "0.9546638841459558"
            ]
          },
          "metadata": {
            "tags": []
          },
          "execution_count": 26
        }
      ]
    },
    {
      "cell_type": "code",
      "metadata": {
        "id": "uAcond7w7imz",
        "colab": {
          "base_uri": "https://localhost:8080/"
        },
        "outputId": "58efbace-e51f-4039-d56a-ee7d4a2c711f"
      },
      "source": [
        "gs_results.best_estimator_"
      ],
      "execution_count": null,
      "outputs": [
        {
          "output_type": "execute_result",
          "data": {
            "text/plain": [
              "XGBClassifier(base_score=0.5, booster='gbtree', colsample_bylevel=1,\n",
              "              colsample_bynode=1, colsample_bytree=1, gamma=0,\n",
              "              learning_rate=0.1, max_delta_step=0, max_depth=2,\n",
              "              min_child_weight=1, missing=None, n_estimators=500, n_jobs=1,\n",
              "              nthread=None, objective='multi:softprob', random_state=0,\n",
              "              reg_alpha=0, reg_lambda=1, scale_pos_weight=1, seed=None,\n",
              "              silent=None, subsample=1, verbosity=1)"
            ]
          },
          "metadata": {
            "tags": []
          },
          "execution_count": 27
        }
      ]
    },
    {
      "cell_type": "code",
      "metadata": {
        "id": "IYQOcexz7lEi",
        "colab": {
          "base_uri": "https://localhost:8080/"
        },
        "outputId": "09bbfee1-550b-4d32-9aa5-9c938eab15bc"
      },
      "source": [
        "gs_results.best_params_"
      ],
      "execution_count": null,
      "outputs": [
        {
          "output_type": "execute_result",
          "data": {
            "text/plain": [
              "{'learning_rate': 0.1, 'max_depth': 2, 'n_estimators': 500}"
            ]
          },
          "metadata": {
            "tags": []
          },
          "execution_count": 28
        }
      ]
    },
    {
      "cell_type": "code",
      "metadata": {
        "colab": {
          "base_uri": "https://localhost:8080/"
        },
        "id": "MU_IUA5owPDr",
        "outputId": "bbddc3b8-77c8-4711-d584-f6897f198bb9"
      },
      "source": [
        "xgboost_f1 = XGBClassifier(learning_rate=0.1, max_depth=2, n_estimators=500)\n",
        "xgboost_f1.fit(X_train, y_train)"
      ],
      "execution_count": null,
      "outputs": [
        {
          "output_type": "execute_result",
          "data": {
            "text/plain": [
              "XGBClassifier(base_score=0.5, booster='gbtree', colsample_bylevel=1,\n",
              "              colsample_bynode=1, colsample_bytree=1, gamma=0,\n",
              "              learning_rate=0.1, max_delta_step=0, max_depth=2,\n",
              "              min_child_weight=1, missing=None, n_estimators=500, n_jobs=1,\n",
              "              nthread=None, objective='multi:softprob', random_state=0,\n",
              "              reg_alpha=0, reg_lambda=1, scale_pos_weight=1, seed=None,\n",
              "              silent=None, subsample=1, verbosity=1)"
            ]
          },
          "metadata": {
            "tags": []
          },
          "execution_count": 29
        }
      ]
    },
    {
      "cell_type": "code",
      "metadata": {
        "id": "GPS5jgZ9wRT2"
      },
      "source": [
        "y_pred = xgboost_f1.predict(X_test)"
      ],
      "execution_count": null,
      "outputs": []
    },
    {
      "cell_type": "code",
      "metadata": {
        "id": "FbJP5o8SwTF3"
      },
      "source": [
        "F1_score = f1_score(y_test, y_pred, average='weighted')"
      ],
      "execution_count": null,
      "outputs": []
    },
    {
      "cell_type": "code",
      "metadata": {
        "colab": {
          "base_uri": "https://localhost:8080/"
        },
        "id": "QHpUF7tmwV85",
        "outputId": "08436c30-0ed6-4499-cb3c-fbd74a0e6d07"
      },
      "source": [
        "print(\"F1 Score: \", '%.2f'% (F1_score*100),\"%\")"
      ],
      "execution_count": null,
      "outputs": [
        {
          "output_type": "stream",
          "text": [
            "F1 Score:  97.41 %\n"
          ],
          "name": "stdout"
        }
      ]
    },
    {
      "cell_type": "markdown",
      "metadata": {
        "id": "F-pDGMkMrxr4"
      },
      "source": [
        "RandomizedSearchCV on RandomForestClassifier"
      ]
    },
    {
      "cell_type": "code",
      "metadata": {
        "id": "LRhs5rkz9uB3"
      },
      "source": [
        "from sklearn.model_selection import RandomizedSearchCV\n",
        "\n",
        "randomized_params = {\n",
        "    'bootstrap' : [True, False],\n",
        "    'max_depth' : [1,2,3],\n",
        "    'n_estimators' : [10,50,100,200,500],\n",
        "    'max_features' : [1,2,3,4,5,6,7,8]\n",
        "}\n",
        "\n",
        "rs = RandomizedSearchCV(\n",
        "    randomForest,\n",
        "    randomized_params,\n",
        "    cv=5,\n",
        "    scoring='accuracy',\n",
        "    n_iter=25, \n",
        "    random_state=10\n",
        ")\n",
        "\n",
        "rs_results = rs.fit(X_train, y_train)"
      ],
      "execution_count": null,
      "outputs": []
    },
    {
      "cell_type": "code",
      "metadata": {
        "colab": {
          "base_uri": "https://localhost:8080/"
        },
        "id": "vLuhlLfY_sGl",
        "outputId": "d60866c7-9581-47b9-c5c5-69fd0877be9b"
      },
      "source": [
        "rs_results.best_score_"
      ],
      "execution_count": null,
      "outputs": [
        {
          "output_type": "execute_result",
          "data": {
            "text/plain": [
              "0.8926136722949473"
            ]
          },
          "metadata": {
            "tags": []
          },
          "execution_count": 34
        }
      ]
    },
    {
      "cell_type": "code",
      "metadata": {
        "colab": {
          "base_uri": "https://localhost:8080/"
        },
        "id": "7bRDdf8V_umN",
        "outputId": "eaffa1ad-ecba-4dc6-c22e-14dc2c884cfb"
      },
      "source": [
        "rs_results.best_estimator_"
      ],
      "execution_count": null,
      "outputs": [
        {
          "output_type": "execute_result",
          "data": {
            "text/plain": [
              "RandomForestClassifier(bootstrap=True, ccp_alpha=0.0, class_weight=None,\n",
              "                       criterion='gini', max_depth=3, max_features=4,\n",
              "                       max_leaf_nodes=None, max_samples=None,\n",
              "                       min_impurity_decrease=0.0, min_impurity_split=None,\n",
              "                       min_samples_leaf=1, min_samples_split=2,\n",
              "                       min_weight_fraction_leaf=0.0, n_estimators=200,\n",
              "                       n_jobs=None, oob_score=False, random_state=None,\n",
              "                       verbose=0, warm_start=False)"
            ]
          },
          "metadata": {
            "tags": []
          },
          "execution_count": 35
        }
      ]
    },
    {
      "cell_type": "code",
      "metadata": {
        "colab": {
          "base_uri": "https://localhost:8080/"
        },
        "id": "SBUNDNBg_wTP",
        "outputId": "6c93eb7a-7a3e-4056-88ed-5bbd791fea9e"
      },
      "source": [
        "rs_results.best_params_"
      ],
      "execution_count": null,
      "outputs": [
        {
          "output_type": "execute_result",
          "data": {
            "text/plain": [
              "{'bootstrap': True, 'max_depth': 3, 'max_features': 4, 'n_estimators': 200}"
            ]
          },
          "metadata": {
            "tags": []
          },
          "execution_count": 36
        }
      ]
    },
    {
      "cell_type": "code",
      "metadata": {
        "colab": {
          "base_uri": "https://localhost:8080/"
        },
        "id": "0RicQmw1zTUy",
        "outputId": "53c18287-5e7c-4b4c-8e7c-456d178d71a8"
      },
      "source": [
        "randomForest_f1 = RandomForestClassifier(bootstrap=True, max_depth = 3, max_features = 4, n_estimators=200)\n",
        "randomForest_f1.fit(X_train,y_train)"
      ],
      "execution_count": null,
      "outputs": [
        {
          "output_type": "execute_result",
          "data": {
            "text/plain": [
              "RandomForestClassifier(bootstrap=True, ccp_alpha=0.0, class_weight=None,\n",
              "                       criterion='gini', max_depth=3, max_features=4,\n",
              "                       max_leaf_nodes=None, max_samples=None,\n",
              "                       min_impurity_decrease=0.0, min_impurity_split=None,\n",
              "                       min_samples_leaf=1, min_samples_split=2,\n",
              "                       min_weight_fraction_leaf=0.0, n_estimators=200,\n",
              "                       n_jobs=None, oob_score=False, random_state=None,\n",
              "                       verbose=0, warm_start=False)"
            ]
          },
          "metadata": {
            "tags": []
          },
          "execution_count": 38
        }
      ]
    },
    {
      "cell_type": "code",
      "metadata": {
        "id": "j2pG7mV9zgFE"
      },
      "source": [
        "y_pred = randomForest_f1.predict(X_test)"
      ],
      "execution_count": null,
      "outputs": []
    },
    {
      "cell_type": "code",
      "metadata": {
        "colab": {
          "base_uri": "https://localhost:8080/"
        },
        "id": "ZogHnXcFzjTb",
        "outputId": "36e0bd98-54d2-472b-821c-a56e6121cea9"
      },
      "source": [
        "F1_score = f1_score(y_test, y_pred, average='weighted')\n",
        "print(\"F1 Score: \", '%.2f'% (F1_score*100),\"%\")"
      ],
      "execution_count": null,
      "outputs": [
        {
          "output_type": "stream",
          "text": [
            "F1 Score:  90.47 %\n"
          ],
          "name": "stdout"
        }
      ]
    },
    {
      "cell_type": "markdown",
      "metadata": {
        "id": "mPoOs536r4zL"
      },
      "source": [
        "RandomizedSearchCV on XGBClassifier"
      ]
    },
    {
      "cell_type": "code",
      "metadata": {
        "id": "0WPgT8CsADc-"
      },
      "source": [
        "randomized_params = {\n",
        "    'learning_rate' : [0.1,0.2,1],\n",
        "    'max_depth' : [1,2,3],\n",
        "    'n_estimators' : [10,50,100,200,500]\n",
        "}\n",
        "\n",
        "rs = RandomizedSearchCV(\n",
        "    xgboost,\n",
        "    randomized_params,\n",
        "    cv=5,\n",
        "    scoring='accuracy',\n",
        "    n_iter=25, \n",
        "    random_state=10\n",
        ")\n",
        "\n",
        "rs_results = rs.fit(X_train, y_train)"
      ],
      "execution_count": null,
      "outputs": []
    },
    {
      "cell_type": "code",
      "metadata": {
        "colab": {
          "base_uri": "https://localhost:8080/"
        },
        "id": "5elmVkN-AO_N",
        "outputId": "a91540c1-b843-4591-ff6f-e64eef22f750"
      },
      "source": [
        "rs_results.best_score_"
      ],
      "execution_count": null,
      "outputs": [
        {
          "output_type": "execute_result",
          "data": {
            "text/plain": [
              "0.9538607474862456"
            ]
          },
          "metadata": {
            "tags": []
          },
          "execution_count": 42
        }
      ]
    },
    {
      "cell_type": "code",
      "metadata": {
        "colab": {
          "base_uri": "https://localhost:8080/"
        },
        "id": "J2YGGom0AS-e",
        "outputId": "9e6602e7-79eb-470e-dc38-fb9e0ebfc710"
      },
      "source": [
        "rs_results.best_estimator_"
      ],
      "execution_count": null,
      "outputs": [
        {
          "output_type": "execute_result",
          "data": {
            "text/plain": [
              "XGBClassifier(base_score=0.5, booster='gbtree', colsample_bylevel=1,\n",
              "              colsample_bynode=1, colsample_bytree=1, gamma=0,\n",
              "              learning_rate=0.2, max_delta_step=0, max_depth=2,\n",
              "              min_child_weight=1, missing=None, n_estimators=200, n_jobs=1,\n",
              "              nthread=None, objective='multi:softprob', random_state=0,\n",
              "              reg_alpha=0, reg_lambda=1, scale_pos_weight=1, seed=None,\n",
              "              silent=None, subsample=1, verbosity=1)"
            ]
          },
          "metadata": {
            "tags": []
          },
          "execution_count": 43
        }
      ]
    },
    {
      "cell_type": "code",
      "metadata": {
        "colab": {
          "base_uri": "https://localhost:8080/"
        },
        "id": "lut9aiABAUyV",
        "outputId": "65652e41-745f-4614-84ee-33fc7195af88"
      },
      "source": [
        "rs_results.best_params_"
      ],
      "execution_count": null,
      "outputs": [
        {
          "output_type": "execute_result",
          "data": {
            "text/plain": [
              "{'learning_rate': 0.2, 'max_depth': 2, 'n_estimators': 200}"
            ]
          },
          "metadata": {
            "tags": []
          },
          "execution_count": 44
        }
      ]
    },
    {
      "cell_type": "code",
      "metadata": {
        "colab": {
          "base_uri": "https://localhost:8080/"
        },
        "id": "B2_DephUz_rc",
        "outputId": "f453a0de-fea6-4e6e-8590-512f859a8a9a"
      },
      "source": [
        "xgboost_f1 = XGBClassifier(learning_rate= 0.2, max_depth=2, n_estimators=200)\n",
        "xgboost_f1.fit(X_train, y_train)"
      ],
      "execution_count": null,
      "outputs": [
        {
          "output_type": "execute_result",
          "data": {
            "text/plain": [
              "XGBClassifier(base_score=0.5, booster='gbtree', colsample_bylevel=1,\n",
              "              colsample_bynode=1, colsample_bytree=1, gamma=0,\n",
              "              learning_rate=0.2, max_delta_step=0, max_depth=2,\n",
              "              min_child_weight=1, missing=None, n_estimators=200, n_jobs=1,\n",
              "              nthread=None, objective='multi:softprob', random_state=0,\n",
              "              reg_alpha=0, reg_lambda=1, scale_pos_weight=1, seed=None,\n",
              "              silent=None, subsample=1, verbosity=1)"
            ]
          },
          "metadata": {
            "tags": []
          },
          "execution_count": 45
        }
      ]
    },
    {
      "cell_type": "code",
      "metadata": {
        "id": "C_-IlhEr0DnT"
      },
      "source": [
        "y_pred = xgboost_f1.predict(X_test)"
      ],
      "execution_count": null,
      "outputs": []
    },
    {
      "cell_type": "code",
      "metadata": {
        "colab": {
          "base_uri": "https://localhost:8080/"
        },
        "id": "Pt3754eg0DkE",
        "outputId": "f8a7bccf-c472-4bbd-b0cf-fcbc5d7d7787"
      },
      "source": [
        "F1_score = f1_score(y_test, y_pred, average='weighted')\n",
        "print(\"F1 Score: \", '%.2f'% (F1_score*100),\"%\")"
      ],
      "execution_count": null,
      "outputs": [
        {
          "output_type": "stream",
          "text": [
            "F1 Score:  96.67 %\n"
          ],
          "name": "stdout"
        }
      ]
    },
    {
      "cell_type": "markdown",
      "metadata": {
        "id": "Tzh4pDFfBSvf"
      },
      "source": [
        "\n",
        "\n",
        "*   The randomized search and the grid search explore exactly the same space of parameters. The result in parameter settings is quite similar, while the run time for randomized search is drastically lower.\n",
        "*   The performance may slightly worse for the randomized search, and is likely due to a noise effect and would not carry over to a held-out test set.\n",
        "\n"
      ]
    },
    {
      "cell_type": "markdown",
      "metadata": {
        "id": "6kOMdxGdBVQp"
      },
      "source": [
        "\n",
        "\n",
        "*   Grid search is thorough and will yield the most optimal results based on the training data — however, it does have some flaws: (1) it is time-consuming, depending on the size of your dataset and the number of hyperparameters. (2) it could lead to overfitting of the training set, leading to a less viable model in the long run.\n",
        "*   Randomized search selects a random sampling of hyperparameter combinations, reduces the danger of overfitting, and is likely to provide more accurate long term results — especially when there are a smaller number of significant hyperparameters.\n",
        "\n"
      ]
    }
  ]
}