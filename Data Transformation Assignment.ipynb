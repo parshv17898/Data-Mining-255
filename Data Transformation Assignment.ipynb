{
 "cells": [
  {
   "cell_type": "markdown",
   "metadata": {},
   "source": [
    "# Part - 1"
   ]
  },
  {
   "cell_type": "code",
   "execution_count": 55,
   "metadata": {},
   "outputs": [],
   "source": [
    "import numpy as np\n",
    "import pandas as pd"
   ]
  },
  {
   "cell_type": "code",
   "execution_count": 56,
   "metadata": {},
   "outputs": [],
   "source": [
    "energy_df = pd.read_csv(\"Energy_Consumption_by_Sector_monthly.csv\")"
   ]
  },
  {
   "cell_type": "code",
   "execution_count": 57,
   "metadata": {},
   "outputs": [
    {
     "data": {
      "text/html": [
       "<div>\n",
       "<style scoped>\n",
       "    .dataframe tbody tr th:only-of-type {\n",
       "        vertical-align: middle;\n",
       "    }\n",
       "\n",
       "    .dataframe tbody tr th {\n",
       "        vertical-align: top;\n",
       "    }\n",
       "\n",
       "    .dataframe thead th {\n",
       "        text-align: right;\n",
       "    }\n",
       "</style>\n",
       "<table border=\"1\" class=\"dataframe\">\n",
       "  <thead>\n",
       "    <tr style=\"text-align: right;\">\n",
       "      <th></th>\n",
       "      <th>Month</th>\n",
       "      <th>Primary Energy Consumed by the Residential Sector</th>\n",
       "      <th>Total Energy Consumed by the Residential Sector</th>\n",
       "      <th>Primary Energy Consumed by the Commercial Sector</th>\n",
       "      <th>Total Energy Consumed by the Commercial Sector</th>\n",
       "      <th>Primary Energy Consumed by the Industrial Sector</th>\n",
       "      <th>Total Energy Consumed by the Industrial Sector</th>\n",
       "      <th>Primary Energy Consumed by the Transportation Sector</th>\n",
       "      <th>Total Energy Consumed by the Transportation Sector</th>\n",
       "      <th>Primary Energy Consumed by the Electric Power Sector</th>\n",
       "      <th>Energy Consumption Balancing Item</th>\n",
       "      <th>Primary Energy Consumption Total</th>\n",
       "    </tr>\n",
       "  </thead>\n",
       "  <tbody>\n",
       "    <tr>\n",
       "      <th>0</th>\n",
       "      <td>NaN</td>\n",
       "      <td>(Trillion Btu)</td>\n",
       "      <td>(Trillion Btu)</td>\n",
       "      <td>(Trillion Btu)</td>\n",
       "      <td>(Trillion Btu)</td>\n",
       "      <td>(Trillion Btu)</td>\n",
       "      <td>(Trillion Btu)</td>\n",
       "      <td>(Trillion Btu)</td>\n",
       "      <td>(Trillion Btu)</td>\n",
       "      <td>(Trillion Btu)</td>\n",
       "      <td>(Trillion Btu)</td>\n",
       "      <td>(Trillion Btu)</td>\n",
       "    </tr>\n",
       "    <tr>\n",
       "      <th>1</th>\n",
       "      <td>1973 January</td>\n",
       "      <td>1339.27</td>\n",
       "      <td>1957.641</td>\n",
       "      <td>657.977</td>\n",
       "      <td>1080.68</td>\n",
       "      <td>2027.033</td>\n",
       "      <td>2673.882</td>\n",
       "      <td>1504.805</td>\n",
       "      <td>1507.977</td>\n",
       "      <td>1691.096</td>\n",
       "      <td>3.693</td>\n",
       "      <td>7223.873</td>\n",
       "    </tr>\n",
       "    <tr>\n",
       "      <th>2</th>\n",
       "      <td>1973 February</td>\n",
       "      <td>1174.899</td>\n",
       "      <td>1712.143</td>\n",
       "      <td>623.759</td>\n",
       "      <td>1003.913</td>\n",
       "      <td>1841.299</td>\n",
       "      <td>2432.592</td>\n",
       "      <td>1438.298</td>\n",
       "      <td>1441.064</td>\n",
       "      <td>1511.458</td>\n",
       "      <td>2.654</td>\n",
       "      <td>6592.366</td>\n",
       "    </tr>\n",
       "    <tr>\n",
       "      <th>3</th>\n",
       "      <td>1973 March</td>\n",
       "      <td>983.374</td>\n",
       "      <td>1510.079</td>\n",
       "      <td>492.136</td>\n",
       "      <td>886.42</td>\n",
       "      <td>1926.411</td>\n",
       "      <td>2561.729</td>\n",
       "      <td>1561.293</td>\n",
       "      <td>1564.146</td>\n",
       "      <td>1559.159</td>\n",
       "      <td>-0.934</td>\n",
       "      <td>6521.439</td>\n",
       "    </tr>\n",
       "    <tr>\n",
       "      <th>4</th>\n",
       "      <td>1973 April</td>\n",
       "      <td>715.391</td>\n",
       "      <td>1183.421</td>\n",
       "      <td>363.393</td>\n",
       "      <td>736.851</td>\n",
       "      <td>1914.017</td>\n",
       "      <td>2540.02</td>\n",
       "      <td>1480.403</td>\n",
       "      <td>1483.064</td>\n",
       "      <td>1470.152</td>\n",
       "      <td>-1.627</td>\n",
       "      <td>5941.729</td>\n",
       "    </tr>\n",
       "    <tr>\n",
       "      <th>...</th>\n",
       "      <td>...</td>\n",
       "      <td>...</td>\n",
       "      <td>...</td>\n",
       "      <td>...</td>\n",
       "      <td>...</td>\n",
       "      <td>...</td>\n",
       "      <td>...</td>\n",
       "      <td>...</td>\n",
       "      <td>...</td>\n",
       "      <td>...</td>\n",
       "      <td>...</td>\n",
       "      <td>...</td>\n",
       "    </tr>\n",
       "    <tr>\n",
       "      <th>563</th>\n",
       "      <td>2019 November</td>\n",
       "      <td>782.421</td>\n",
       "      <td>1811.487</td>\n",
       "      <td>499.315</td>\n",
       "      <td>1534.86</td>\n",
       "      <td>1954.74</td>\n",
       "      <td>2718.924</td>\n",
       "      <td>2287.971</td>\n",
       "      <td>2294.193</td>\n",
       "      <td>2835.016</td>\n",
       "      <td>-1.531</td>\n",
       "      <td>8357.934</td>\n",
       "    </tr>\n",
       "    <tr>\n",
       "      <th>564</th>\n",
       "      <td>2019 December</td>\n",
       "      <td>980.07</td>\n",
       "      <td>2172.491</td>\n",
       "      <td>588.337</td>\n",
       "      <td>1647.851</td>\n",
       "      <td>2002.992</td>\n",
       "      <td>2755.556</td>\n",
       "      <td>2322.102</td>\n",
       "      <td>2328.506</td>\n",
       "      <td>3010.903</td>\n",
       "      <td>-3.636</td>\n",
       "      <td>8900.768</td>\n",
       "    </tr>\n",
       "    <tr>\n",
       "      <th>565</th>\n",
       "      <td>2020 January</td>\n",
       "      <td>1038.399</td>\n",
       "      <td>2247.496</td>\n",
       "      <td>618.061</td>\n",
       "      <td>1670.65</td>\n",
       "      <td>2022.698</td>\n",
       "      <td>2778.895</td>\n",
       "      <td>2270.163</td>\n",
       "      <td>2277.145</td>\n",
       "      <td>3024.864</td>\n",
       "      <td>-9.681</td>\n",
       "      <td>8964.505</td>\n",
       "    </tr>\n",
       "    <tr>\n",
       "      <th>566</th>\n",
       "      <td>2020 February</td>\n",
       "      <td>931.947</td>\n",
       "      <td>2019.396</td>\n",
       "      <td>562.273</td>\n",
       "      <td>1553.325</td>\n",
       "      <td>1871.349</td>\n",
       "      <td>2605.877</td>\n",
       "      <td>2133.188</td>\n",
       "      <td>2139.22</td>\n",
       "      <td>2819.061</td>\n",
       "      <td>-6.454</td>\n",
       "      <td>8311.363</td>\n",
       "    </tr>\n",
       "    <tr>\n",
       "      <th>567</th>\n",
       "      <td>2020 March</td>\n",
       "      <td>707.308</td>\n",
       "      <td>1701.746</td>\n",
       "      <td>446.388</td>\n",
       "      <td>1430.881</td>\n",
       "      <td>1915.214</td>\n",
       "      <td>2656.536</td>\n",
       "      <td>2050.078</td>\n",
       "      <td>2055.852</td>\n",
       "      <td>2726.026</td>\n",
       "      <td>-6.874</td>\n",
       "      <td>7838.141</td>\n",
       "    </tr>\n",
       "  </tbody>\n",
       "</table>\n",
       "<p>568 rows × 12 columns</p>\n",
       "</div>"
      ],
      "text/plain": [
       "             Month Primary Energy Consumed by the Residential Sector  \\\n",
       "0              NaN                                    (Trillion Btu)   \n",
       "1     1973 January                                           1339.27   \n",
       "2    1973 February                                          1174.899   \n",
       "3       1973 March                                           983.374   \n",
       "4       1973 April                                           715.391   \n",
       "..             ...                                               ...   \n",
       "563  2019 November                                           782.421   \n",
       "564  2019 December                                            980.07   \n",
       "565   2020 January                                          1038.399   \n",
       "566  2020 February                                           931.947   \n",
       "567     2020 March                                           707.308   \n",
       "\n",
       "    Total Energy Consumed by the Residential Sector  \\\n",
       "0                                    (Trillion Btu)   \n",
       "1                                          1957.641   \n",
       "2                                          1712.143   \n",
       "3                                          1510.079   \n",
       "4                                          1183.421   \n",
       "..                                              ...   \n",
       "563                                        1811.487   \n",
       "564                                        2172.491   \n",
       "565                                        2247.496   \n",
       "566                                        2019.396   \n",
       "567                                        1701.746   \n",
       "\n",
       "    Primary Energy Consumed by the Commercial Sector  \\\n",
       "0                                     (Trillion Btu)   \n",
       "1                                            657.977   \n",
       "2                                            623.759   \n",
       "3                                            492.136   \n",
       "4                                            363.393   \n",
       "..                                               ...   \n",
       "563                                          499.315   \n",
       "564                                          588.337   \n",
       "565                                          618.061   \n",
       "566                                          562.273   \n",
       "567                                          446.388   \n",
       "\n",
       "    Total Energy Consumed by the Commercial Sector  \\\n",
       "0                                   (Trillion Btu)   \n",
       "1                                          1080.68   \n",
       "2                                         1003.913   \n",
       "3                                           886.42   \n",
       "4                                          736.851   \n",
       "..                                             ...   \n",
       "563                                        1534.86   \n",
       "564                                       1647.851   \n",
       "565                                        1670.65   \n",
       "566                                       1553.325   \n",
       "567                                       1430.881   \n",
       "\n",
       "    Primary Energy Consumed by the Industrial Sector  \\\n",
       "0                                     (Trillion Btu)   \n",
       "1                                           2027.033   \n",
       "2                                           1841.299   \n",
       "3                                           1926.411   \n",
       "4                                           1914.017   \n",
       "..                                               ...   \n",
       "563                                          1954.74   \n",
       "564                                         2002.992   \n",
       "565                                         2022.698   \n",
       "566                                         1871.349   \n",
       "567                                         1915.214   \n",
       "\n",
       "    Total Energy Consumed by the Industrial Sector  \\\n",
       "0                                   (Trillion Btu)   \n",
       "1                                         2673.882   \n",
       "2                                         2432.592   \n",
       "3                                         2561.729   \n",
       "4                                          2540.02   \n",
       "..                                             ...   \n",
       "563                                       2718.924   \n",
       "564                                       2755.556   \n",
       "565                                       2778.895   \n",
       "566                                       2605.877   \n",
       "567                                       2656.536   \n",
       "\n",
       "    Primary Energy Consumed by the Transportation Sector  \\\n",
       "0                                       (Trillion Btu)     \n",
       "1                                             1504.805     \n",
       "2                                             1438.298     \n",
       "3                                             1561.293     \n",
       "4                                             1480.403     \n",
       "..                                                 ...     \n",
       "563                                           2287.971     \n",
       "564                                           2322.102     \n",
       "565                                           2270.163     \n",
       "566                                           2133.188     \n",
       "567                                           2050.078     \n",
       "\n",
       "    Total Energy Consumed by the Transportation Sector  \\\n",
       "0                                       (Trillion Btu)   \n",
       "1                                             1507.977   \n",
       "2                                             1441.064   \n",
       "3                                             1564.146   \n",
       "4                                             1483.064   \n",
       "..                                                 ...   \n",
       "563                                           2294.193   \n",
       "564                                           2328.506   \n",
       "565                                           2277.145   \n",
       "566                                            2139.22   \n",
       "567                                           2055.852   \n",
       "\n",
       "    Primary Energy Consumed by the Electric Power Sector  \\\n",
       "0                                       (Trillion Btu)     \n",
       "1                                             1691.096     \n",
       "2                                             1511.458     \n",
       "3                                             1559.159     \n",
       "4                                             1470.152     \n",
       "..                                                 ...     \n",
       "563                                           2835.016     \n",
       "564                                           3010.903     \n",
       "565                                           3024.864     \n",
       "566                                           2819.061     \n",
       "567                                           2726.026     \n",
       "\n",
       "    Energy Consumption Balancing Item Primary Energy Consumption Total  \n",
       "0                      (Trillion Btu)                   (Trillion Btu)  \n",
       "1                               3.693                         7223.873  \n",
       "2                               2.654                         6592.366  \n",
       "3                              -0.934                         6521.439  \n",
       "4                              -1.627                         5941.729  \n",
       "..                                ...                              ...  \n",
       "563                            -1.531                         8357.934  \n",
       "564                            -3.636                         8900.768  \n",
       "565                            -9.681                         8964.505  \n",
       "566                            -6.454                         8311.363  \n",
       "567                            -6.874                         7838.141  \n",
       "\n",
       "[568 rows x 12 columns]"
      ]
     },
     "execution_count": 57,
     "metadata": {},
     "output_type": "execute_result"
    }
   ],
   "source": [
    "energy_df"
   ]
  },
  {
   "cell_type": "code",
   "execution_count": 58,
   "metadata": {},
   "outputs": [],
   "source": [
    "energy_df = energy_df.drop(energy_df.index[0])"
   ]
  },
  {
   "cell_type": "code",
   "execution_count": 59,
   "metadata": {},
   "outputs": [
    {
     "data": {
      "text/html": [
       "<div>\n",
       "<style scoped>\n",
       "    .dataframe tbody tr th:only-of-type {\n",
       "        vertical-align: middle;\n",
       "    }\n",
       "\n",
       "    .dataframe tbody tr th {\n",
       "        vertical-align: top;\n",
       "    }\n",
       "\n",
       "    .dataframe thead th {\n",
       "        text-align: right;\n",
       "    }\n",
       "</style>\n",
       "<table border=\"1\" class=\"dataframe\">\n",
       "  <thead>\n",
       "    <tr style=\"text-align: right;\">\n",
       "      <th></th>\n",
       "      <th>Month</th>\n",
       "      <th>Primary Energy Consumed by the Residential Sector</th>\n",
       "      <th>Total Energy Consumed by the Residential Sector</th>\n",
       "      <th>Primary Energy Consumed by the Commercial Sector</th>\n",
       "      <th>Total Energy Consumed by the Commercial Sector</th>\n",
       "      <th>Primary Energy Consumed by the Industrial Sector</th>\n",
       "      <th>Total Energy Consumed by the Industrial Sector</th>\n",
       "      <th>Primary Energy Consumed by the Transportation Sector</th>\n",
       "      <th>Total Energy Consumed by the Transportation Sector</th>\n",
       "      <th>Primary Energy Consumed by the Electric Power Sector</th>\n",
       "      <th>Energy Consumption Balancing Item</th>\n",
       "      <th>Primary Energy Consumption Total</th>\n",
       "    </tr>\n",
       "  </thead>\n",
       "  <tbody>\n",
       "    <tr>\n",
       "      <th>1</th>\n",
       "      <td>1973 January</td>\n",
       "      <td>1339.27</td>\n",
       "      <td>1957.641</td>\n",
       "      <td>657.977</td>\n",
       "      <td>1080.68</td>\n",
       "      <td>2027.033</td>\n",
       "      <td>2673.882</td>\n",
       "      <td>1504.805</td>\n",
       "      <td>1507.977</td>\n",
       "      <td>1691.096</td>\n",
       "      <td>3.693</td>\n",
       "      <td>7223.873</td>\n",
       "    </tr>\n",
       "    <tr>\n",
       "      <th>2</th>\n",
       "      <td>1973 February</td>\n",
       "      <td>1174.899</td>\n",
       "      <td>1712.143</td>\n",
       "      <td>623.759</td>\n",
       "      <td>1003.913</td>\n",
       "      <td>1841.299</td>\n",
       "      <td>2432.592</td>\n",
       "      <td>1438.298</td>\n",
       "      <td>1441.064</td>\n",
       "      <td>1511.458</td>\n",
       "      <td>2.654</td>\n",
       "      <td>6592.366</td>\n",
       "    </tr>\n",
       "    <tr>\n",
       "      <th>3</th>\n",
       "      <td>1973 March</td>\n",
       "      <td>983.374</td>\n",
       "      <td>1510.079</td>\n",
       "      <td>492.136</td>\n",
       "      <td>886.42</td>\n",
       "      <td>1926.411</td>\n",
       "      <td>2561.729</td>\n",
       "      <td>1561.293</td>\n",
       "      <td>1564.146</td>\n",
       "      <td>1559.159</td>\n",
       "      <td>-0.934</td>\n",
       "      <td>6521.439</td>\n",
       "    </tr>\n",
       "    <tr>\n",
       "      <th>4</th>\n",
       "      <td>1973 April</td>\n",
       "      <td>715.391</td>\n",
       "      <td>1183.421</td>\n",
       "      <td>363.393</td>\n",
       "      <td>736.851</td>\n",
       "      <td>1914.017</td>\n",
       "      <td>2540.02</td>\n",
       "      <td>1480.403</td>\n",
       "      <td>1483.064</td>\n",
       "      <td>1470.152</td>\n",
       "      <td>-1.627</td>\n",
       "      <td>5941.729</td>\n",
       "    </tr>\n",
       "    <tr>\n",
       "      <th>5</th>\n",
       "      <td>1973 May</td>\n",
       "      <td>535.914</td>\n",
       "      <td>1006.326</td>\n",
       "      <td>288.63</td>\n",
       "      <td>695.636</td>\n",
       "      <td>2076.468</td>\n",
       "      <td>2747.831</td>\n",
       "      <td>1622.115</td>\n",
       "      <td>1624.965</td>\n",
       "      <td>1551.631</td>\n",
       "      <td>-2.817</td>\n",
       "      <td>6071.94</td>\n",
       "    </tr>\n",
       "    <tr>\n",
       "      <th>...</th>\n",
       "      <td>...</td>\n",
       "      <td>...</td>\n",
       "      <td>...</td>\n",
       "      <td>...</td>\n",
       "      <td>...</td>\n",
       "      <td>...</td>\n",
       "      <td>...</td>\n",
       "      <td>...</td>\n",
       "      <td>...</td>\n",
       "      <td>...</td>\n",
       "      <td>...</td>\n",
       "      <td>...</td>\n",
       "    </tr>\n",
       "    <tr>\n",
       "      <th>563</th>\n",
       "      <td>2019 November</td>\n",
       "      <td>782.421</td>\n",
       "      <td>1811.487</td>\n",
       "      <td>499.315</td>\n",
       "      <td>1534.86</td>\n",
       "      <td>1954.74</td>\n",
       "      <td>2718.924</td>\n",
       "      <td>2287.971</td>\n",
       "      <td>2294.193</td>\n",
       "      <td>2835.016</td>\n",
       "      <td>-1.531</td>\n",
       "      <td>8357.934</td>\n",
       "    </tr>\n",
       "    <tr>\n",
       "      <th>564</th>\n",
       "      <td>2019 December</td>\n",
       "      <td>980.07</td>\n",
       "      <td>2172.491</td>\n",
       "      <td>588.337</td>\n",
       "      <td>1647.851</td>\n",
       "      <td>2002.992</td>\n",
       "      <td>2755.556</td>\n",
       "      <td>2322.102</td>\n",
       "      <td>2328.506</td>\n",
       "      <td>3010.903</td>\n",
       "      <td>-3.636</td>\n",
       "      <td>8900.768</td>\n",
       "    </tr>\n",
       "    <tr>\n",
       "      <th>565</th>\n",
       "      <td>2020 January</td>\n",
       "      <td>1038.399</td>\n",
       "      <td>2247.496</td>\n",
       "      <td>618.061</td>\n",
       "      <td>1670.65</td>\n",
       "      <td>2022.698</td>\n",
       "      <td>2778.895</td>\n",
       "      <td>2270.163</td>\n",
       "      <td>2277.145</td>\n",
       "      <td>3024.864</td>\n",
       "      <td>-9.681</td>\n",
       "      <td>8964.505</td>\n",
       "    </tr>\n",
       "    <tr>\n",
       "      <th>566</th>\n",
       "      <td>2020 February</td>\n",
       "      <td>931.947</td>\n",
       "      <td>2019.396</td>\n",
       "      <td>562.273</td>\n",
       "      <td>1553.325</td>\n",
       "      <td>1871.349</td>\n",
       "      <td>2605.877</td>\n",
       "      <td>2133.188</td>\n",
       "      <td>2139.22</td>\n",
       "      <td>2819.061</td>\n",
       "      <td>-6.454</td>\n",
       "      <td>8311.363</td>\n",
       "    </tr>\n",
       "    <tr>\n",
       "      <th>567</th>\n",
       "      <td>2020 March</td>\n",
       "      <td>707.308</td>\n",
       "      <td>1701.746</td>\n",
       "      <td>446.388</td>\n",
       "      <td>1430.881</td>\n",
       "      <td>1915.214</td>\n",
       "      <td>2656.536</td>\n",
       "      <td>2050.078</td>\n",
       "      <td>2055.852</td>\n",
       "      <td>2726.026</td>\n",
       "      <td>-6.874</td>\n",
       "      <td>7838.141</td>\n",
       "    </tr>\n",
       "  </tbody>\n",
       "</table>\n",
       "<p>567 rows × 12 columns</p>\n",
       "</div>"
      ],
      "text/plain": [
       "             Month Primary Energy Consumed by the Residential Sector  \\\n",
       "1     1973 January                                           1339.27   \n",
       "2    1973 February                                          1174.899   \n",
       "3       1973 March                                           983.374   \n",
       "4       1973 April                                           715.391   \n",
       "5         1973 May                                           535.914   \n",
       "..             ...                                               ...   \n",
       "563  2019 November                                           782.421   \n",
       "564  2019 December                                            980.07   \n",
       "565   2020 January                                          1038.399   \n",
       "566  2020 February                                           931.947   \n",
       "567     2020 March                                           707.308   \n",
       "\n",
       "    Total Energy Consumed by the Residential Sector  \\\n",
       "1                                          1957.641   \n",
       "2                                          1712.143   \n",
       "3                                          1510.079   \n",
       "4                                          1183.421   \n",
       "5                                          1006.326   \n",
       "..                                              ...   \n",
       "563                                        1811.487   \n",
       "564                                        2172.491   \n",
       "565                                        2247.496   \n",
       "566                                        2019.396   \n",
       "567                                        1701.746   \n",
       "\n",
       "    Primary Energy Consumed by the Commercial Sector  \\\n",
       "1                                            657.977   \n",
       "2                                            623.759   \n",
       "3                                            492.136   \n",
       "4                                            363.393   \n",
       "5                                             288.63   \n",
       "..                                               ...   \n",
       "563                                          499.315   \n",
       "564                                          588.337   \n",
       "565                                          618.061   \n",
       "566                                          562.273   \n",
       "567                                          446.388   \n",
       "\n",
       "    Total Energy Consumed by the Commercial Sector  \\\n",
       "1                                          1080.68   \n",
       "2                                         1003.913   \n",
       "3                                           886.42   \n",
       "4                                          736.851   \n",
       "5                                          695.636   \n",
       "..                                             ...   \n",
       "563                                        1534.86   \n",
       "564                                       1647.851   \n",
       "565                                        1670.65   \n",
       "566                                       1553.325   \n",
       "567                                       1430.881   \n",
       "\n",
       "    Primary Energy Consumed by the Industrial Sector  \\\n",
       "1                                           2027.033   \n",
       "2                                           1841.299   \n",
       "3                                           1926.411   \n",
       "4                                           1914.017   \n",
       "5                                           2076.468   \n",
       "..                                               ...   \n",
       "563                                          1954.74   \n",
       "564                                         2002.992   \n",
       "565                                         2022.698   \n",
       "566                                         1871.349   \n",
       "567                                         1915.214   \n",
       "\n",
       "    Total Energy Consumed by the Industrial Sector  \\\n",
       "1                                         2673.882   \n",
       "2                                         2432.592   \n",
       "3                                         2561.729   \n",
       "4                                          2540.02   \n",
       "5                                         2747.831   \n",
       "..                                             ...   \n",
       "563                                       2718.924   \n",
       "564                                       2755.556   \n",
       "565                                       2778.895   \n",
       "566                                       2605.877   \n",
       "567                                       2656.536   \n",
       "\n",
       "    Primary Energy Consumed by the Transportation Sector  \\\n",
       "1                                             1504.805     \n",
       "2                                             1438.298     \n",
       "3                                             1561.293     \n",
       "4                                             1480.403     \n",
       "5                                             1622.115     \n",
       "..                                                 ...     \n",
       "563                                           2287.971     \n",
       "564                                           2322.102     \n",
       "565                                           2270.163     \n",
       "566                                           2133.188     \n",
       "567                                           2050.078     \n",
       "\n",
       "    Total Energy Consumed by the Transportation Sector  \\\n",
       "1                                             1507.977   \n",
       "2                                             1441.064   \n",
       "3                                             1564.146   \n",
       "4                                             1483.064   \n",
       "5                                             1624.965   \n",
       "..                                                 ...   \n",
       "563                                           2294.193   \n",
       "564                                           2328.506   \n",
       "565                                           2277.145   \n",
       "566                                            2139.22   \n",
       "567                                           2055.852   \n",
       "\n",
       "    Primary Energy Consumed by the Electric Power Sector  \\\n",
       "1                                             1691.096     \n",
       "2                                             1511.458     \n",
       "3                                             1559.159     \n",
       "4                                             1470.152     \n",
       "5                                             1551.631     \n",
       "..                                                 ...     \n",
       "563                                           2835.016     \n",
       "564                                           3010.903     \n",
       "565                                           3024.864     \n",
       "566                                           2819.061     \n",
       "567                                           2726.026     \n",
       "\n",
       "    Energy Consumption Balancing Item Primary Energy Consumption Total  \n",
       "1                               3.693                         7223.873  \n",
       "2                               2.654                         6592.366  \n",
       "3                              -0.934                         6521.439  \n",
       "4                              -1.627                         5941.729  \n",
       "5                              -2.817                          6071.94  \n",
       "..                                ...                              ...  \n",
       "563                            -1.531                         8357.934  \n",
       "564                            -3.636                         8900.768  \n",
       "565                            -9.681                         8964.505  \n",
       "566                            -6.454                         8311.363  \n",
       "567                            -6.874                         7838.141  \n",
       "\n",
       "[567 rows x 12 columns]"
      ]
     },
     "execution_count": 59,
     "metadata": {},
     "output_type": "execute_result"
    }
   ],
   "source": [
    "energy_df"
   ]
  },
  {
   "cell_type": "code",
   "execution_count": 60,
   "metadata": {},
   "outputs": [],
   "source": [
    "df = pd.DataFrame(energy_df['Month'])"
   ]
  },
  {
   "cell_type": "code",
   "execution_count": 61,
   "metadata": {},
   "outputs": [
    {
     "data": {
      "text/html": [
       "<div>\n",
       "<style scoped>\n",
       "    .dataframe tbody tr th:only-of-type {\n",
       "        vertical-align: middle;\n",
       "    }\n",
       "\n",
       "    .dataframe tbody tr th {\n",
       "        vertical-align: top;\n",
       "    }\n",
       "\n",
       "    .dataframe thead th {\n",
       "        text-align: right;\n",
       "    }\n",
       "</style>\n",
       "<table border=\"1\" class=\"dataframe\">\n",
       "  <thead>\n",
       "    <tr style=\"text-align: right;\">\n",
       "      <th></th>\n",
       "      <th>Month</th>\n",
       "    </tr>\n",
       "  </thead>\n",
       "  <tbody>\n",
       "    <tr>\n",
       "      <th>1</th>\n",
       "      <td>1973 January</td>\n",
       "    </tr>\n",
       "    <tr>\n",
       "      <th>2</th>\n",
       "      <td>1973 February</td>\n",
       "    </tr>\n",
       "    <tr>\n",
       "      <th>3</th>\n",
       "      <td>1973 March</td>\n",
       "    </tr>\n",
       "    <tr>\n",
       "      <th>4</th>\n",
       "      <td>1973 April</td>\n",
       "    </tr>\n",
       "    <tr>\n",
       "      <th>5</th>\n",
       "      <td>1973 May</td>\n",
       "    </tr>\n",
       "  </tbody>\n",
       "</table>\n",
       "</div>"
      ],
      "text/plain": [
       "           Month\n",
       "1   1973 January\n",
       "2  1973 February\n",
       "3     1973 March\n",
       "4     1973 April\n",
       "5       1973 May"
      ]
     },
     "execution_count": 61,
     "metadata": {},
     "output_type": "execute_result"
    }
   ],
   "source": [
    "df.head()"
   ]
  },
  {
   "cell_type": "code",
   "execution_count": 62,
   "metadata": {},
   "outputs": [],
   "source": [
    "df[\"Total Energy Consumed by the Residential Sector\"] = energy_df[\"Total Energy Consumed by the Residential Sector\"].astype(float)"
   ]
  },
  {
   "cell_type": "code",
   "execution_count": 63,
   "metadata": {},
   "outputs": [
    {
     "data": {
      "text/plain": [
       "<AxesSubplot:xlabel='Month'>"
      ]
     },
     "execution_count": 63,
     "metadata": {},
     "output_type": "execute_result"
    },
    {
     "data": {
      "image/png": "[encoded data removed]",
      "text/plain": [
       "<Figure size 432x288 with 1 Axes>"
      ]
     },
     "metadata": {
      "needs_background": "light"
     },
     "output_type": "display_data"
    }
   ],
   "source": [
    "df.plot(x=\"Month\", y=\"Total Energy Consumed by the Residential Sector\")"
   ]
  },
  {
   "cell_type": "code",
   "execution_count": 64,
   "metadata": {},
   "outputs": [
    {
     "data": {
      "text/plain": [
       "<AxesSubplot:xlabel='Month'>"
      ]
     },
     "execution_count": 64,
     "metadata": {},
     "output_type": "execute_result"
    },
    {
     "data": {
      "image/png": "[encoded data removed]",
      "text/plain": [
       "<Figure size 720x360 with 1 Axes>"
      ]
     },
     "metadata": {
      "needs_background": "light"
     },
     "output_type": "display_data"
    }
   ],
   "source": [
    "df.plot(x=\"Month\", y=\"Total Energy Consumed by the Residential Sector\", figsize=(10,5))"
   ]
  },
  {
   "cell_type": "code",
   "execution_count": 65,
   "metadata": {},
   "outputs": [],
   "source": [
    "df_new = pd.DataFrame(df['Month'].str.split(' ',1).tolist(),\n",
    "                                 columns = ['Year','Month'])"
   ]
  },
  {
   "cell_type": "code",
   "execution_count": 66,
   "metadata": {},
   "outputs": [
    {
     "data": {
      "text/html": [
       "<div>\n",
       "<style scoped>\n",
       "    .dataframe tbody tr th:only-of-type {\n",
       "        vertical-align: middle;\n",
       "    }\n",
       "\n",
       "    .dataframe tbody tr th {\n",
       "        vertical-align: top;\n",
       "    }\n",
       "\n",
       "    .dataframe thead th {\n",
       "        text-align: right;\n",
       "    }\n",
       "</style>\n",
       "<table border=\"1\" class=\"dataframe\">\n",
       "  <thead>\n",
       "    <tr style=\"text-align: right;\">\n",
       "      <th></th>\n",
       "      <th>Year</th>\n",
       "      <th>Month</th>\n",
       "    </tr>\n",
       "  </thead>\n",
       "  <tbody>\n",
       "    <tr>\n",
       "      <th>0</th>\n",
       "      <td>1973</td>\n",
       "      <td>January</td>\n",
       "    </tr>\n",
       "    <tr>\n",
       "      <th>1</th>\n",
       "      <td>1973</td>\n",
       "      <td>February</td>\n",
       "    </tr>\n",
       "    <tr>\n",
       "      <th>2</th>\n",
       "      <td>1973</td>\n",
       "      <td>March</td>\n",
       "    </tr>\n",
       "    <tr>\n",
       "      <th>3</th>\n",
       "      <td>1973</td>\n",
       "      <td>April</td>\n",
       "    </tr>\n",
       "    <tr>\n",
       "      <th>4</th>\n",
       "      <td>1973</td>\n",
       "      <td>May</td>\n",
       "    </tr>\n",
       "    <tr>\n",
       "      <th>...</th>\n",
       "      <td>...</td>\n",
       "      <td>...</td>\n",
       "    </tr>\n",
       "    <tr>\n",
       "      <th>562</th>\n",
       "      <td>2019</td>\n",
       "      <td>November</td>\n",
       "    </tr>\n",
       "    <tr>\n",
       "      <th>563</th>\n",
       "      <td>2019</td>\n",
       "      <td>December</td>\n",
       "    </tr>\n",
       "    <tr>\n",
       "      <th>564</th>\n",
       "      <td>2020</td>\n",
       "      <td>January</td>\n",
       "    </tr>\n",
       "    <tr>\n",
       "      <th>565</th>\n",
       "      <td>2020</td>\n",
       "      <td>February</td>\n",
       "    </tr>\n",
       "    <tr>\n",
       "      <th>566</th>\n",
       "      <td>2020</td>\n",
       "      <td>March</td>\n",
       "    </tr>\n",
       "  </tbody>\n",
       "</table>\n",
       "<p>567 rows × 2 columns</p>\n",
       "</div>"
      ],
      "text/plain": [
       "     Year     Month\n",
       "0    1973   January\n",
       "1    1973  February\n",
       "2    1973     March\n",
       "3    1973     April\n",
       "4    1973       May\n",
       "..    ...       ...\n",
       "562  2019  November\n",
       "563  2019  December\n",
       "564  2020   January\n",
       "565  2020  February\n",
       "566  2020     March\n",
       "\n",
       "[567 rows x 2 columns]"
      ]
     },
     "execution_count": 66,
     "metadata": {},
     "output_type": "execute_result"
    }
   ],
   "source": [
    "df_new"
   ]
  },
  {
   "cell_type": "code",
   "execution_count": 90,
   "metadata": {},
   "outputs": [],
   "source": [
    "data = [df_new['Year'],energy_df['Total Energy Consumed by the Residential Sector']]\n",
    "headers = ['Year','Total Energy Consumed by the Residential Sector']\n",
    "df_new2 = pd.concat(data, axis=1, keys=headers)"
   ]
  },
  {
   "cell_type": "code",
   "execution_count": 91,
   "metadata": {},
   "outputs": [
    {
     "data": {
      "text/html": [
       "<div>\n",
       "<style scoped>\n",
       "    .dataframe tbody tr th:only-of-type {\n",
       "        vertical-align: middle;\n",
       "    }\n",
       "\n",
       "    .dataframe tbody tr th {\n",
       "        vertical-align: top;\n",
       "    }\n",
       "\n",
       "    .dataframe thead th {\n",
       "        text-align: right;\n",
       "    }\n",
       "</style>\n",
       "<table border=\"1\" class=\"dataframe\">\n",
       "  <thead>\n",
       "    <tr style=\"text-align: right;\">\n",
       "      <th></th>\n",
       "      <th>Year</th>\n",
       "      <th>Total Energy Consumed by the Residential Sector</th>\n",
       "    </tr>\n",
       "  </thead>\n",
       "  <tbody>\n",
       "    <tr>\n",
       "      <th>0</th>\n",
       "      <td>1973</td>\n",
       "      <td>NaN</td>\n",
       "    </tr>\n",
       "    <tr>\n",
       "      <th>1</th>\n",
       "      <td>1973</td>\n",
       "      <td>1957.641</td>\n",
       "    </tr>\n",
       "    <tr>\n",
       "      <th>2</th>\n",
       "      <td>1973</td>\n",
       "      <td>1712.143</td>\n",
       "    </tr>\n",
       "    <tr>\n",
       "      <th>3</th>\n",
       "      <td>1973</td>\n",
       "      <td>1510.079</td>\n",
       "    </tr>\n",
       "    <tr>\n",
       "      <th>4</th>\n",
       "      <td>1973</td>\n",
       "      <td>1183.421</td>\n",
       "    </tr>\n",
       "    <tr>\n",
       "      <th>...</th>\n",
       "      <td>...</td>\n",
       "      <td>...</td>\n",
       "    </tr>\n",
       "    <tr>\n",
       "      <th>563</th>\n",
       "      <td>2019</td>\n",
       "      <td>1811.487</td>\n",
       "    </tr>\n",
       "    <tr>\n",
       "      <th>564</th>\n",
       "      <td>2020</td>\n",
       "      <td>2172.491</td>\n",
       "    </tr>\n",
       "    <tr>\n",
       "      <th>565</th>\n",
       "      <td>2020</td>\n",
       "      <td>2247.496</td>\n",
       "    </tr>\n",
       "    <tr>\n",
       "      <th>566</th>\n",
       "      <td>2020</td>\n",
       "      <td>2019.396</td>\n",
       "    </tr>\n",
       "    <tr>\n",
       "      <th>567</th>\n",
       "      <td>NaN</td>\n",
       "      <td>1701.746</td>\n",
       "    </tr>\n",
       "  </tbody>\n",
       "</table>\n",
       "<p>568 rows × 2 columns</p>\n",
       "</div>"
      ],
      "text/plain": [
       "     Year Total Energy Consumed by the Residential Sector\n",
       "0    1973                                             NaN\n",
       "1    1973                                        1957.641\n",
       "2    1973                                        1712.143\n",
       "3    1973                                        1510.079\n",
       "4    1973                                        1183.421\n",
       "..    ...                                             ...\n",
       "563  2019                                        1811.487\n",
       "564  2020                                        2172.491\n",
       "565  2020                                        2247.496\n",
       "566  2020                                        2019.396\n",
       "567   NaN                                        1701.746\n",
       "\n",
       "[568 rows x 2 columns]"
      ]
     },
     "execution_count": 91,
     "metadata": {},
     "output_type": "execute_result"
    }
   ],
   "source": [
    "df_new2"
   ]
  },
  {
   "cell_type": "code",
   "execution_count": 92,
   "metadata": {},
   "outputs": [],
   "source": [
    "df_new2 = df_new2.drop(df_new2.index[0])"
   ]
  },
  {
   "cell_type": "code",
   "execution_count": 93,
   "metadata": {},
   "outputs": [
    {
     "data": {
      "text/html": [
       "<div>\n",
       "<style scoped>\n",
       "    .dataframe tbody tr th:only-of-type {\n",
       "        vertical-align: middle;\n",
       "    }\n",
       "\n",
       "    .dataframe tbody tr th {\n",
       "        vertical-align: top;\n",
       "    }\n",
       "\n",
       "    .dataframe thead th {\n",
       "        text-align: right;\n",
       "    }\n",
       "</style>\n",
       "<table border=\"1\" class=\"dataframe\">\n",
       "  <thead>\n",
       "    <tr style=\"text-align: right;\">\n",
       "      <th></th>\n",
       "      <th>Year</th>\n",
       "      <th>Total Energy Consumed by the Residential Sector</th>\n",
       "    </tr>\n",
       "  </thead>\n",
       "  <tbody>\n",
       "    <tr>\n",
       "      <th>1</th>\n",
       "      <td>1973</td>\n",
       "      <td>1957.641</td>\n",
       "    </tr>\n",
       "    <tr>\n",
       "      <th>2</th>\n",
       "      <td>1973</td>\n",
       "      <td>1712.143</td>\n",
       "    </tr>\n",
       "    <tr>\n",
       "      <th>3</th>\n",
       "      <td>1973</td>\n",
       "      <td>1510.079</td>\n",
       "    </tr>\n",
       "    <tr>\n",
       "      <th>4</th>\n",
       "      <td>1973</td>\n",
       "      <td>1183.421</td>\n",
       "    </tr>\n",
       "    <tr>\n",
       "      <th>5</th>\n",
       "      <td>1973</td>\n",
       "      <td>1006.326</td>\n",
       "    </tr>\n",
       "  </tbody>\n",
       "</table>\n",
       "</div>"
      ],
      "text/plain": [
       "   Year Total Energy Consumed by the Residential Sector\n",
       "1  1973                                        1957.641\n",
       "2  1973                                        1712.143\n",
       "3  1973                                        1510.079\n",
       "4  1973                                        1183.421\n",
       "5  1973                                        1006.326"
      ]
     },
     "execution_count": 93,
     "metadata": {},
     "output_type": "execute_result"
    }
   ],
   "source": [
    "df_new2.head()"
   ]
  },
  {
   "cell_type": "code",
   "execution_count": 102,
   "metadata": {},
   "outputs": [],
   "source": [
    "df_new2 = df_new2.astype(float)"
   ]
  },
  {
   "cell_type": "code",
   "execution_count": 104,
   "metadata": {},
   "outputs": [],
   "source": [
    "df_agg = df_new2.groupby(\"Year\")[\"Total Energy Consumed by the Residential Sector\"].sum().reset_index(name=\"Total Energy Consumed by the Residential Sector\").astype(float)"
   ]
  },
  {
   "cell_type": "code",
   "execution_count": 106,
   "metadata": {},
   "outputs": [
    {
     "data": {
      "text/html": [
       "<div>\n",
       "<style scoped>\n",
       "    .dataframe tbody tr th:only-of-type {\n",
       "        vertical-align: middle;\n",
       "    }\n",
       "\n",
       "    .dataframe tbody tr th {\n",
       "        vertical-align: top;\n",
       "    }\n",
       "\n",
       "    .dataframe thead th {\n",
       "        text-align: right;\n",
       "    }\n",
       "</style>\n",
       "<table border=\"1\" class=\"dataframe\">\n",
       "  <thead>\n",
       "    <tr style=\"text-align: right;\">\n",
       "      <th></th>\n",
       "      <th>Year</th>\n",
       "      <th>Total Energy Consumed by the Residential Sector</th>\n",
       "    </tr>\n",
       "  </thead>\n",
       "  <tbody>\n",
       "    <tr>\n",
       "      <th>0</th>\n",
       "      <td>1973.0</td>\n",
       "      <td>13358.040</td>\n",
       "    </tr>\n",
       "    <tr>\n",
       "      <th>1</th>\n",
       "      <td>1974.0</td>\n",
       "      <td>14563.448</td>\n",
       "    </tr>\n",
       "    <tr>\n",
       "      <th>2</th>\n",
       "      <td>1975.0</td>\n",
       "      <td>14826.045</td>\n",
       "    </tr>\n",
       "    <tr>\n",
       "      <th>3</th>\n",
       "      <td>1976.0</td>\n",
       "      <td>15138.332</td>\n",
       "    </tr>\n",
       "    <tr>\n",
       "      <th>4</th>\n",
       "      <td>1977.0</td>\n",
       "      <td>15812.968</td>\n",
       "    </tr>\n",
       "  </tbody>\n",
       "</table>\n",
       "</div>"
      ],
      "text/plain": [
       "     Year  Total Energy Consumed by the Residential Sector\n",
       "0  1973.0                                        13358.040\n",
       "1  1974.0                                        14563.448\n",
       "2  1975.0                                        14826.045\n",
       "3  1976.0                                        15138.332\n",
       "4  1977.0                                        15812.968"
      ]
     },
     "execution_count": 106,
     "metadata": {},
     "output_type": "execute_result"
    }
   ],
   "source": [
    "df_agg.head()"
   ]
  },
  {
   "cell_type": "code",
   "execution_count": 107,
   "metadata": {},
   "outputs": [
    {
     "data": {
      "text/plain": [
       "<AxesSubplot:xlabel='Year'>"
      ]
     },
     "execution_count": 107,
     "metadata": {},
     "output_type": "execute_result"
    },
    {
     "data": {
      "image/png": "[encoded data removed]",
      "text/plain": [
       "<Figure size 720x360 with 1 Axes>"
      ]
     },
     "metadata": {
      "needs_background": "light"
     },
     "output_type": "display_data"
    }
   ],
   "source": [
    "df_agg.plot(x=\"Year\", y=\"Total Energy Consumed by the Residential Sector\", figsize=(10,5))"
   ]
  },
  {
   "cell_type": "markdown",
   "metadata": {},
   "source": [
    "# Part - 2"
   ]
  },
  {
   "cell_type": "code",
   "execution_count": 236,
   "metadata": {},
   "outputs": [],
   "source": [
    "import pandas as pd\n",
    "import numpy as np\n",
    "import matplotlib.pyplot as plt\n",
    "from sklearn.datasets import load_wine\n",
    "from sklearn.preprocessing import StandardScaler\n",
    "from sklearn.preprocessing import MinMaxScaler\n",
    "from sklearn.decomposition import PCA"
   ]
  },
  {
   "cell_type": "code",
   "execution_count": 237,
   "metadata": {},
   "outputs": [
    {
     "name": "stdout",
     "output_type": "stream",
     "text": [
      "   alcohol  malic_acid   ash  alcalinity_of_ash  magnesium  total_phenols  \\\n",
      "0    14.23        1.71  2.43               15.6      127.0           2.80   \n",
      "1    13.20        1.78  2.14               11.2      100.0           2.65   \n",
      "2    13.16        2.36  2.67               18.6      101.0           2.80   \n",
      "3    14.37        1.95  2.50               16.8      113.0           3.85   \n",
      "4    13.24        2.59  2.87               21.0      118.0           2.80   \n",
      "\n",
      "   flavanoids  nonflavanoid_phenols  proanthocyanins  color_intensity   hue  \\\n",
      "0        3.06                  0.28             2.29             5.64  1.04   \n",
      "1        2.76                  0.26             1.28             4.38  1.05   \n",
      "2        3.24                  0.30             2.81             5.68  1.03   \n",
      "3        3.49                  0.24             2.18             7.80  0.86   \n",
      "4        2.69                  0.39             1.82             4.32  1.04   \n",
      "\n",
      "   od280/od315_of_diluted_wines  proline  \n",
      "0                          3.92   1065.0  \n",
      "1                          3.40   1050.0  \n",
      "2                          3.17   1185.0  \n",
      "3                          3.45   1480.0  \n",
      "4                          2.93    735.0  \n"
     ]
    }
   ],
   "source": [
    "wine = load_wine()\n",
    "df = pd.DataFrame(wine.data, columns=wine.feature_names)\n",
    "\n",
    "print(df.head())"
   ]
  },
  {
   "cell_type": "code",
   "execution_count": 238,
   "metadata": {},
   "outputs": [
    {
     "name": "stdout",
     "output_type": "stream",
     "text": [
      "          alcohol  malic_acid         ash  alcalinity_of_ash   magnesium  \\\n",
      "count  178.000000  178.000000  178.000000         178.000000  178.000000   \n",
      "mean    13.000618    2.336348    2.366517          19.494944   99.741573   \n",
      "std      0.811827    1.117146    0.274344           3.339564   14.282484   \n",
      "min     11.030000    0.740000    1.360000          10.600000   70.000000   \n",
      "25%     12.362500    1.602500    2.210000          17.200000   88.000000   \n",
      "50%     13.050000    1.865000    2.360000          19.500000   98.000000   \n",
      "75%     13.677500    3.082500    2.557500          21.500000  107.000000   \n",
      "max     14.830000    5.800000    3.230000          30.000000  162.000000   \n",
      "\n",
      "       total_phenols  flavanoids  nonflavanoid_phenols  proanthocyanins  \\\n",
      "count     178.000000  178.000000            178.000000       178.000000   \n",
      "mean        2.295112    2.029270              0.361854         1.590899   \n",
      "std         0.625851    0.998859              0.124453         0.572359   \n",
      "min         0.980000    0.340000              0.130000         0.410000   \n",
      "25%         1.742500    1.205000              0.270000         1.250000   \n",
      "50%         2.355000    2.135000              0.340000         1.555000   \n",
      "75%         2.800000    2.875000              0.437500         1.950000   \n",
      "max         3.880000    5.080000              0.660000         3.580000   \n",
      "\n",
      "       color_intensity         hue  od280/od315_of_diluted_wines      proline  \n",
      "count       178.000000  178.000000                    178.000000   178.000000  \n",
      "mean          5.058090    0.957449                      2.611685   746.893258  \n",
      "std           2.318286    0.228572                      0.709990   314.907474  \n",
      "min           1.280000    0.480000                      1.270000   278.000000  \n",
      "25%           3.220000    0.782500                      1.937500   500.500000  \n",
      "50%           4.690000    0.965000                      2.780000   673.500000  \n",
      "75%           6.200000    1.120000                      3.170000   985.000000  \n",
      "max          13.000000    1.710000                      4.000000  1680.000000  \n"
     ]
    }
   ],
   "source": [
    "print(df.describe())"
   ]
  },
  {
   "cell_type": "code",
   "execution_count": 241,
   "metadata": {},
   "outputs": [],
   "source": [
    "df1 = MinMaxScaler().fit_transform(df)\n",
    "df1 = pd.DataFrame(df1,columns=wine.feature_names)"
   ]
  },
  {
   "cell_type": "code",
   "execution_count": 242,
   "metadata": {},
   "outputs": [
    {
     "name": "stdout",
     "output_type": "stream",
     "text": [
      "    alcohol  malic_acid       ash  alcalinity_of_ash  magnesium  \\\n",
      "0  0.842105    0.191700  0.572193           0.257732   0.619565   \n",
      "1  0.571053    0.205534  0.417112           0.030928   0.326087   \n",
      "2  0.560526    0.320158  0.700535           0.412371   0.336957   \n",
      "3  0.878947    0.239130  0.609626           0.319588   0.467391   \n",
      "4  0.581579    0.365613  0.807487           0.536082   0.521739   \n",
      "\n",
      "   total_phenols  flavanoids  nonflavanoid_phenols  proanthocyanins  \\\n",
      "0       0.627586    0.573840              0.283019         0.593060   \n",
      "1       0.575862    0.510549              0.245283         0.274448   \n",
      "2       0.627586    0.611814              0.320755         0.757098   \n",
      "3       0.989655    0.664557              0.207547         0.558360   \n",
      "4       0.627586    0.495781              0.490566         0.444795   \n",
      "\n",
      "   color_intensity       hue  od280/od315_of_diluted_wines   proline  \n",
      "0         0.372014  0.455285                      0.970696  0.561341  \n",
      "1         0.264505  0.463415                      0.780220  0.550642  \n",
      "2         0.375427  0.447154                      0.695971  0.646933  \n",
      "3         0.556314  0.308943                      0.798535  0.857347  \n",
      "4         0.259386  0.455285                      0.608059  0.325963  \n"
     ]
    }
   ],
   "source": [
    "print(df1.head())"
   ]
  },
  {
   "cell_type": "code",
   "execution_count": 243,
   "metadata": {},
   "outputs": [
    {
     "name": "stdout",
     "output_type": "stream",
     "text": [
      "          alcohol  malic_acid         ash  alcalinity_of_ash   magnesium  \\\n",
      "count  178.000000  178.000000  178.000000         178.000000  178.000000   \n",
      "mean     0.518584    0.315484    0.538244           0.458502    0.323278   \n",
      "std      0.213639    0.220780    0.146708           0.172142    0.155244   \n",
      "min      0.000000    0.000000    0.000000           0.000000    0.000000   \n",
      "25%      0.350658    0.170455    0.454545           0.340206    0.195652   \n",
      "50%      0.531579    0.222332    0.534759           0.458763    0.304348   \n",
      "75%      0.696711    0.462945    0.640374           0.561856    0.402174   \n",
      "max      1.000000    1.000000    1.000000           1.000000    1.000000   \n",
      "\n",
      "       total_phenols  flavanoids  nonflavanoid_phenols  proanthocyanins  \\\n",
      "count     178.000000  178.000000            178.000000       178.000000   \n",
      "mean        0.453487    0.356386              0.437460         0.372523   \n",
      "std         0.215811    0.210730              0.234818         0.180555   \n",
      "min         0.000000    0.000000              0.000000         0.000000   \n",
      "25%         0.262931    0.182489              0.264151         0.264984   \n",
      "50%         0.474138    0.378692              0.396226         0.361199   \n",
      "75%         0.627586    0.534810              0.580189         0.485804   \n",
      "max         1.000000    1.000000              1.000000         1.000000   \n",
      "\n",
      "       color_intensity         hue  od280/od315_of_diluted_wines     proline  \n",
      "count       178.000000  178.000000                    178.000000  178.000000  \n",
      "mean          0.322363    0.388170                      0.491460    0.334446  \n",
      "std           0.197806    0.185831                      0.260070    0.224613  \n",
      "min           0.000000    0.000000                      0.000000    0.000000  \n",
      "25%           0.165529    0.245935                      0.244505    0.158702  \n",
      "50%           0.290956    0.394309                      0.553114    0.282097  \n",
      "75%           0.419795    0.520325                      0.695971    0.504280  \n",
      "max           1.000000    1.000000                      1.000000    1.000000  \n"
     ]
    }
   ],
   "source": [
    "print(df1.describe())"
   ]
  },
  {
   "cell_type": "code",
   "execution_count": 244,
   "metadata": {},
   "outputs": [],
   "source": [
    "df = StandardScaler().fit_transform(df)\n",
    "df = pd.DataFrame(df,columns=wine.feature_names)"
   ]
  },
  {
   "cell_type": "code",
   "execution_count": 245,
   "metadata": {},
   "outputs": [
    {
     "name": "stdout",
     "output_type": "stream",
     "text": [
      "    alcohol  malic_acid       ash  alcalinity_of_ash  magnesium  \\\n",
      "0  1.518613   -0.562250  0.232053          -1.169593   1.913905   \n",
      "1  0.246290   -0.499413 -0.827996          -2.490847   0.018145   \n",
      "2  0.196879    0.021231  1.109334          -0.268738   0.088358   \n",
      "3  1.691550   -0.346811  0.487926          -0.809251   0.930918   \n",
      "4  0.295700    0.227694  1.840403           0.451946   1.281985   \n",
      "\n",
      "   total_phenols  flavanoids  nonflavanoid_phenols  proanthocyanins  \\\n",
      "0       0.808997    1.034819             -0.659563         1.224884   \n",
      "1       0.568648    0.733629             -0.820719        -0.544721   \n",
      "2       0.808997    1.215533             -0.498407         2.135968   \n",
      "3       2.491446    1.466525             -0.981875         1.032155   \n",
      "4       0.808997    0.663351              0.226796         0.401404   \n",
      "\n",
      "   color_intensity       hue  od280/od315_of_diluted_wines   proline  \n",
      "0         0.251717  0.362177                      1.847920  1.013009  \n",
      "1        -0.293321  0.406051                      1.113449  0.965242  \n",
      "2         0.269020  0.318304                      0.788587  1.395148  \n",
      "3         1.186068 -0.427544                      1.184071  2.334574  \n",
      "4        -0.319276  0.362177                      0.449601 -0.037874  \n"
     ]
    }
   ],
   "source": [
    "print(df.head())"
   ]
  },
  {
   "cell_type": "code",
   "execution_count": 246,
   "metadata": {},
   "outputs": [
    {
     "name": "stdout",
     "output_type": "stream",
     "text": [
      "            alcohol    malic_acid           ash  alcalinity_of_ash  \\\n",
      "count  1.780000e+02  1.780000e+02  1.780000e+02       1.780000e+02   \n",
      "mean   7.841418e-15  2.444986e-16 -4.059175e-15      -7.110417e-17   \n",
      "std    1.002821e+00  1.002821e+00  1.002821e+00       1.002821e+00   \n",
      "min   -2.434235e+00 -1.432983e+00 -3.679162e+00      -2.671018e+00   \n",
      "25%   -7.882448e-01 -6.587486e-01 -5.721225e-01      -6.891372e-01   \n",
      "50%    6.099988e-02 -4.231120e-01 -2.382132e-02       1.518295e-03   \n",
      "75%    8.361286e-01  6.697929e-01  6.981085e-01       6.020883e-01   \n",
      "max    2.259772e+00  3.109192e+00  3.156325e+00       3.154511e+00   \n",
      "\n",
      "          magnesium  total_phenols    flavanoids  nonflavanoid_phenols  \\\n",
      "count  1.780000e+02   1.780000e+02  1.780000e+02          1.780000e+02   \n",
      "mean  -2.494883e-17  -1.955365e-16  9.443133e-16         -4.178929e-16   \n",
      "std    1.002821e+00   1.002821e+00  1.002821e+00          1.002821e+00   \n",
      "min   -2.088255e+00  -2.107246e+00 -1.695971e+00         -1.868234e+00   \n",
      "25%   -8.244151e-01  -8.854682e-01 -8.275393e-01         -7.401412e-01   \n",
      "50%   -1.222817e-01   9.595986e-02  1.061497e-01         -1.760948e-01   \n",
      "75%    5.096384e-01   8.089974e-01  8.490851e-01          6.095413e-01   \n",
      "max    4.371372e+00   2.539515e+00  3.062832e+00          2.402403e+00   \n",
      "\n",
      "       proanthocyanins  color_intensity           hue  \\\n",
      "count     1.780000e+02     1.780000e+02  1.780000e+02   \n",
      "mean     -1.540590e-15    -4.129032e-16  1.398382e-15   \n",
      "std       1.002821e+00     1.002821e+00  1.002821e+00   \n",
      "min      -2.069034e+00    -1.634288e+00 -2.094732e+00   \n",
      "25%      -5.972835e-01    -7.951025e-01 -7.675624e-01   \n",
      "50%      -6.289785e-02    -1.592246e-01  3.312687e-02   \n",
      "75%       6.291754e-01     4.939560e-01  7.131644e-01   \n",
      "max       3.485073e+00     3.435432e+00  3.301694e+00   \n",
      "\n",
      "       od280/od315_of_diluted_wines       proline  \n",
      "count                  1.780000e+02  1.780000e+02  \n",
      "mean                   2.126888e-15 -6.985673e-17  \n",
      "std                    1.002821e+00  1.002821e+00  \n",
      "min                   -1.895054e+00 -1.493188e+00  \n",
      "25%                   -9.522483e-01 -7.846378e-01  \n",
      "50%                    2.377348e-01 -2.337204e-01  \n",
      "75%                    7.885875e-01  7.582494e-01  \n",
      "max                    1.960915e+00  2.971473e+00  \n"
     ]
    }
   ],
   "source": [
    "print(df.describe())"
   ]
  },
  {
   "cell_type": "code",
   "execution_count": 247,
   "metadata": {},
   "outputs": [],
   "source": [
    "pca = PCA(n_components=2)\n",
    "pca_model=pca.fit(df)\n",
    "df_trans=pd.DataFrame(pca_model.transform(df), columns=['pca1', 'pca2'])"
   ]
  },
  {
   "cell_type": "code",
   "execution_count": 248,
   "metadata": {},
   "outputs": [
    {
     "name": "stdout",
     "output_type": "stream",
     "text": [
      "       pca1      pca2\n",
      "0  3.316751 -1.443463\n",
      "1  2.209465  0.333393\n",
      "2  2.516740 -1.031151\n",
      "3  3.757066 -2.756372\n",
      "4  1.008908 -0.869831\n"
     ]
    }
   ],
   "source": [
    "print(df_trans.head())"
   ]
  },
  {
   "cell_type": "code",
   "execution_count": 249,
   "metadata": {},
   "outputs": [
    {
     "data": {
      "image/png": "[encoded data removed]",
      "text/plain": [
       "<Figure size 432x288 with 1 Axes>"
      ]
     },
     "metadata": {
      "needs_background": "light"
     },
     "output_type": "display_data"
    }
   ],
   "source": [
    "plt.scatter(df_trans['pca1'], df_trans['pca2'], alpha=0.8)\n",
    "plt.xlabel('PCA 1')\n",
    "plt.ylabel('PCA 2')\n",
    "plt.show()"
   ]
  },
  {
   "cell_type": "code",
   "execution_count": 250,
   "metadata": {},
   "outputs": [
    {
     "name": "stdout",
     "output_type": "stream",
     "text": [
      "    alcohol  malic_acid       ash  alcalinity_of_ash  magnesium  \\\n",
      "0  0.144329   -0.245188 -0.002051          -0.239320   0.141992   \n",
      "1 -0.483652   -0.224931 -0.316069           0.010591  -0.299634   \n",
      "\n",
      "   total_phenols  flavanoids  nonflavanoid_phenols  proanthocyanins  \\\n",
      "0       0.394661    0.422934             -0.298533         0.313429   \n",
      "1      -0.065040    0.003360             -0.028779        -0.039302   \n",
      "\n",
      "   color_intensity       hue  od280/od315_of_diluted_wines   proline  \n",
      "0        -0.088617  0.296715                      0.376167  0.286752  \n",
      "1        -0.529996  0.279235                      0.164496 -0.364903  \n"
     ]
    }
   ],
   "source": [
    "comp=pd.DataFrame(pca_model.components_, columns=wine.feature_names)\n",
    "print(comp)"
   ]
  },
  {
   "cell_type": "code",
   "execution_count": 251,
   "metadata": {},
   "outputs": [
    {
     "name": "stdout",
     "output_type": "stream",
     "text": [
      "[0.36198848 0.1920749 ]\n"
     ]
    }
   ],
   "source": [
    "print(pca_model.explained_variance_ratio_)\n"
   ]
  },
  {
   "cell_type": "code",
   "execution_count": 253,
   "metadata": {},
   "outputs": [],
   "source": [
    "pca = PCA()\n",
    "pca_model=pca.fit(df)"
   ]
  },
  {
   "cell_type": "code",
   "execution_count": 254,
   "metadata": {},
   "outputs": [
    {
     "name": "stdout",
     "output_type": "stream",
     "text": [
      "[0.36198848 0.1920749  0.11123631 0.0706903  0.06563294 0.04935823\n",
      " 0.04238679 0.02680749 0.02222153 0.01930019 0.01736836 0.01298233\n",
      " 0.00795215]\n"
     ]
    }
   ],
   "source": [
    "print(pca_model.explained_variance_ratio_)"
   ]
  },
  {
   "cell_type": "code",
   "execution_count": 255,
   "metadata": {},
   "outputs": [
    {
     "name": "stdout",
     "output_type": "stream",
     "text": [
      "[0.36198848 0.55406338 0.66529969 0.73598999 0.80162293 0.85098116\n",
      " 0.89336795 0.92017544 0.94239698 0.96169717 0.97906553 0.99204785\n",
      " 1.        ]\n"
     ]
    }
   ],
   "source": [
    "print(np.cumsum(pca_model.explained_variance_ratio_))"
   ]
  },
  {
   "cell_type": "markdown",
   "metadata": {},
   "source": [
    "### The requirement is that 90% of the variance must be explained in the PCA transformed data. This level of cumulative variance is explained by including 8 principal components. Hence, the number of dimensions that can be reduced while capturing 90% of the variance in the data is 5 which is from 13 to 8. Because the 8th principal component shows the cumulative variance of 92%. \n",
    "\n",
    "### The maximum number of components is restricted by the number of features (in our case it’s 13). For an N-dimensional dataset, the above code will calculate N principal components. Our wine dataset had 13 features, hence we now have 13 principal components."
   ]
  },
  {
   "cell_type": "code",
   "execution_count": 256,
   "metadata": {},
   "outputs": [
    {
     "data": {
      "image/png": "[encoded data removed]",
      "text/plain": [
       "<Figure size 432x288 with 1 Axes>"
      ]
     },
     "metadata": {
      "needs_background": "light"
     },
     "output_type": "display_data"
    }
   ],
   "source": [
    "plt.plot(list(range(1,14)), pca.explained_variance_ratio_)\n",
    "plt.axis([0, 14, 0, max(pca.explained_variance_ratio_)+0.05])\n",
    "plt.xticks(list(range(1,14)))\n",
    "plt.xlabel('Principal Components')\n",
    "plt.ylabel('Variance Explained')\n",
    "plt.show()"
   ]
  },
  {
   "cell_type": "code",
   "execution_count": 258,
   "metadata": {},
   "outputs": [
    {
     "data": {
      "image/png": "[encoded data removed]",
      "text/plain": [
       "<Figure size 432x288 with 1 Axes>"
      ]
     },
     "metadata": {
      "needs_background": "light"
     },
     "output_type": "display_data"
    }
   ],
   "source": [
    "plt.plot(list(range(1,14)), np.cumsum(pca.explained_variance_ratio_))\n",
    "plt.axis([0, 14, 0, 1.1])\n",
    "plt.axhline(y=0.9, color='r', linestyle='--', linewidth=1)\n",
    "plt.xticks(list(range(1,14)))\n",
    "plt.xlabel('# of Principal Components')\n",
    "plt.ylabel('Cumulative Variance Explained')\n",
    "plt.show()"
   ]
  }
 ],
 "metadata": {
  "kernelspec": {
   "display_name": "Python 3",
   "language": "python",
   "name": "python3"
  },
  "language_info": {
   "codemirror_mode": {
    "name": "ipython",
    "version": 3
   },
   "file_extension": ".py",
   "mimetype": "text/x-python",
   "name": "python",
   "nbconvert_exporter": "python",
   "pygments_lexer": "ipython3",
   "version": "3.8.5"
  }
 },
 "nbformat": 4,
 "nbformat_minor": 4
}
